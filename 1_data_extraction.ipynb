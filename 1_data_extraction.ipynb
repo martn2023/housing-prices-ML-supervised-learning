{
 "cells": [
  {
   "cell_type": "code",
   "execution_count": 1,
   "id": "59978dc0-5f63-4015-ac31-56fcf1479bc6",
   "metadata": {},
   "outputs": [
    {
     "data": {
      "text/plain": [
       "\"\\nULTIMATE QUESTION:\\nWhat is the best way to predict housing prices?\\n\\n\\nTHIS NOTEBOOK'S QUESTION:\\nCan we get a data set that may help us predict housing prices, of an appropriate size and quality?\\n\\nThis notebook should only be run once at the start of the project to get the raw data\\n\""
      ]
     },
     "execution_count": 1,
     "metadata": {},
     "output_type": "execute_result"
    }
   ],
   "source": [
    "'''\n",
    "ULTIMATE QUESTION:\n",
    "What is the best way to predict housing prices?\n",
    "\n",
    "\n",
    "THIS NOTEBOOK'S QUESTION:\n",
    "Can we get a data set that may help us predict housing prices, of an appropriate size and quality?\n",
    "\n",
    "This notebook should only be run once at the start of the project to get the raw data\n",
    "'''"
   ]
  },
  {
   "cell_type": "code",
   "execution_count": 2,
   "id": "6e3c2380-77bf-4c23-9529-c587ade35ad0",
   "metadata": {},
   "outputs": [
    {
     "name": "stdout",
     "output_type": "stream",
     "text": [
      "couldn't find folder structure, had to make it\n",
      "data fetched\n"
     ]
    }
   ],
   "source": [
    "import os\n",
    "import tarfile\n",
    "from six.moves import urllib\n",
    "\n",
    "DOWNLOAD_URL = \"https://raw.githubusercontent.com/ageron/handson-ml2/master/datasets/housing/housing.tgz\"\n",
    "PROJECT_FILE_PATH = os.path.join(\"datasets\", \"housing\")\n",
    "\n",
    "# Define paths inside the project\n",
    "#NEW_FOLDER_PATH = \"housing_data\"  # New folder for storing the data\n",
    "#NEW_FILE_NAME = \"initial_raw_data.csv\"  # New file name\n",
    "  \n",
    "if not os.path.isdir(PROJECT_FILE_PATH):\n",
    "    os.makedirs(PROJECT_FILE_PATH)\n",
    "    print(\"couldn't find folder structure, but don't worry because I made it myself\")\n",
    "\n",
    "tgz_path = os.path.join(PROJECT_FILE_PATH, \"housing.tgz\")\n",
    "urllib.request.urlretrieve(DOWNLOAD_URL,tgz_path)\n",
    "\n",
    "housing_tgz = tarfile.open(tgz_path)\n",
    "housing_tgz.extractall(path=PROJECT_FILE_PATH)\n",
    "housing_tgz.close()\n",
    "print(\"data fetched\")\n"
   ]
  },
  {
   "cell_type": "code",
   "execution_count": 3,
   "id": "ee164b52-bc4f-4c8b-89dc-3f8fa3f10442",
   "metadata": {},
   "outputs": [
    {
     "ename": "NameError",
     "evalue": "name 'HOUSING_PATH' is not defined",
     "output_type": "error",
     "traceback": [
      "\u001b[1;31m---------------------------------------------------------------------------\u001b[0m",
      "\u001b[1;31mNameError\u001b[0m                                 Traceback (most recent call last)",
      "Cell \u001b[1;32mIn[3], line 2\u001b[0m\n\u001b[0;32m      1\u001b[0m \u001b[38;5;66;03m#import pandas as pd\u001b[39;00m\n\u001b[1;32m----> 2\u001b[0m \u001b[38;5;28;01mdef\u001b[39;00m \u001b[38;5;21mload_housing_data\u001b[39m(housing_path\u001b[38;5;241m=\u001b[39m\u001b[43mHOUSING_PATH\u001b[49m):\n\u001b[0;32m      3\u001b[0m  csv_path \u001b[38;5;241m=\u001b[39m os\u001b[38;5;241m.\u001b[39mpath\u001b[38;5;241m.\u001b[39mjoin(housing_path, \u001b[38;5;124m\"\u001b[39m\u001b[38;5;124mhousing.csv\u001b[39m\u001b[38;5;124m\"\u001b[39m)\n\u001b[0;32m      4\u001b[0m  \u001b[38;5;28;01mreturn\u001b[39;00m pd\u001b[38;5;241m.\u001b[39mread_csv(csv_path)\n",
      "\u001b[1;31mNameError\u001b[0m: name 'HOUSING_PATH' is not defined"
     ]
    }
   ],
   "source": [
    "# If the above data was fetched and downloaded to a CSV, I want to see\n",
    "\n",
    "\n",
    "import pandas as pd\n",
    "def load_housing_data(housing_path=HOUSING_PATH):\n",
    " csv_path = os.path.join(housing_path, \"housing.csv\")\n",
    " return pd.read_csv(csv_path)\n"
   ]
  },
  {
   "cell_type": "code",
   "execution_count": null,
   "id": "db819899-31e0-40f3-85ac-036a5f06f0c3",
   "metadata": {},
   "outputs": [],
   "source": []
  }
 ],
 "metadata": {
  "kernelspec": {
   "display_name": "Python 3 (ipykernel)",
   "language": "python",
   "name": "python3"
  },
  "language_info": {
   "codemirror_mode": {
    "name": "ipython",
    "version": 3
   },
   "file_extension": ".py",
   "mimetype": "text/x-python",
   "name": "python",
   "nbconvert_exporter": "python",
   "pygments_lexer": "ipython3",
   "version": "3.10.11"
  }
 },
 "nbformat": 4,
 "nbformat_minor": 5
}
